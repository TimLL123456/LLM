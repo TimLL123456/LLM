{
 "cells": [
  {
   "cell_type": "code",
   "execution_count": 96,
   "id": "cb2ab023-066b-4d7f-a282-86c564fc9c80",
   "metadata": {},
   "outputs": [],
   "source": [
    "import pandas as pd\n",
    "import numpy as np"
   ]
  },
  {
   "cell_type": "code",
   "execution_count": 5,
   "id": "2e4752a8-0eca-4596-b81b-bcae7b717e5b",
   "metadata": {
    "tags": []
   },
   "outputs": [
    {
     "name": "stdout",
     "output_type": "stream",
     "text": [
      "8\n"
     ]
    }
   ],
   "source": [
    "def find_consecutive(my_list):\n",
    "    ### Sort list\n",
    "    sorted_my_list = sorted(my_list)\n",
    "    \n",
    "    ### Start number of the consecutive range\n",
    "    start = sorted_my_list[0]\n",
    "    \n",
    "    ### End number of the consecutive range\n",
    "    end = start + 1\n",
    "    \n",
    "    for i in range(start, end):\n",
    "        print(i)\n",
    "    \n",
    "        \n",
    "\n",
    "my_list = [1, 2, 3, 4, 5, 7, 8, 10]\n",
    "print(len(my_list))"
   ]
  },
  {
   "cell_type": "code",
   "execution_count": 6,
   "id": "a900ac77-de08-44b9-a538-35f5a4033eef",
   "metadata": {
    "tags": []
   },
   "outputs": [
    {
     "name": "stdout",
     "output_type": "stream",
     "text": [
      "1\n"
     ]
    }
   ],
   "source": [
    "find_consecutive(my_list)"
   ]
  },
  {
   "cell_type": "code",
   "execution_count": 16,
   "id": "7926d9b4-fee3-4a82-b729-3aba76a2f68e",
   "metadata": {
    "tags": []
   },
   "outputs": [
    {
     "name": "stdout",
     "output_type": "stream",
     "text": [
      "[2, 2, 5, 7, 10, 11]\n",
      "[]\n"
     ]
    },
    {
     "data": {
      "text/plain": [
       "[]"
      ]
     },
     "execution_count": 16,
     "metadata": {},
     "output_type": "execute_result"
    }
   ],
   "source": [
    "def ranges(nums):\n",
    "    nums = sorted(set(nums))\n",
    "    \n",
    "    ### Find the non-consecutive gaps\n",
    "    gaps = [[s, e] for s, e in zip(nums, nums[1:]) if s+1 < e]\n",
    "    # edges = iter(nums[:1] + sum(gaps, []) + nums[-1:])\n",
    "    edges = nums[:1] + sum(gaps, []) + nums[-1:]\n",
    "    print(list(edges))\n",
    "    print(list(zip(edges, edges)))\n",
    "    \n",
    "    return list(zip(edges, edges))\n",
    "\n",
    "ranges([2, 5, 6, 7, 10, 11])"
   ]
  },
  {
   "cell_type": "code",
   "execution_count": 8,
   "id": "a2f7accb",
   "metadata": {},
   "outputs": [
    {
     "data": {
      "text/plain": [
       "[[1, 2], [3], [4, 5], [6]]"
      ]
     },
     "execution_count": 8,
     "metadata": {},
     "output_type": "execute_result"
    }
   ],
   "source": [
    "test = [[[1, 2], [3]], [[4, 5], [6]], []]\n",
    "\n",
    "sum(test, [])"
   ]
  },
  {
   "cell_type": "code",
   "execution_count": 111,
   "id": "4229bcfa-f0a4-4499-82fe-b2c5ccf66bbb",
   "metadata": {
    "tags": []
   },
   "outputs": [
    {
     "name": "stdout",
     "output_type": "stream",
     "text": [
      "10\n"
     ]
    }
   ],
   "source": [
    "def func_1():\n",
    "    func_1.test_1 = 10\n",
    "    print(test_1)\n",
    "    \n",
    "def func_2():\n",
    "    print(func_1.test_1)\n",
    "\n",
    "func_1()"
   ]
  },
  {
   "cell_type": "code",
   "execution_count": 10,
   "id": "7d0bc263-d25e-4c46-9c46-7f2d56c319f4",
   "metadata": {
    "tags": []
   },
   "outputs": [],
   "source": [
    "from tool.tools import mytools"
   ]
  },
  {
   "cell_type": "code",
   "execution_count": 11,
   "id": "b68fe8e1-87e2-409a-aa73-4a17f73b00f4",
   "metadata": {
    "tags": []
   },
   "outputs": [
    {
     "ename": "AttributeError",
     "evalue": "'mytools' object has no attribute 'test_func'",
     "output_type": "error",
     "traceback": [
      "\u001b[0;31m---------------------------------------------------------------------------\u001b[0m",
      "\u001b[0;31mAttributeError\u001b[0m                            Traceback (most recent call last)",
      "Cell \u001b[0;32mIn[11], line 2\u001b[0m\n\u001b[1;32m      1\u001b[0m a \u001b[38;5;241m=\u001b[39m mytools()\n\u001b[0;32m----> 2\u001b[0m \u001b[43ma\u001b[49m\u001b[38;5;241;43m.\u001b[39;49m\u001b[43mtest_func\u001b[49m()\n",
      "\u001b[0;31mAttributeError\u001b[0m: 'mytools' object has no attribute 'test_func'"
     ]
    }
   ],
   "source": [
    "a = mytools()\n",
    "a.test_func()"
   ]
  }
 ],
 "metadata": {
  "kernelspec": {
   "display_name": "yolov5",
   "language": "python",
   "name": "python3"
  },
  "language_info": {
   "codemirror_mode": {
    "name": "ipython",
    "version": 3
   },
   "file_extension": ".py",
   "mimetype": "text/x-python",
   "name": "python",
   "nbconvert_exporter": "python",
   "pygments_lexer": "ipython3",
   "version": "3.10.13"
  }
 },
 "nbformat": 4,
 "nbformat_minor": 5
}
