{
 "cells": [
  {
   "cell_type": "code",
   "execution_count": 96,
   "id": "cb2ab023-066b-4d7f-a282-86c564fc9c80",
   "metadata": {},
   "outputs": [],
   "source": [
    "import pandas as pd\n",
    "import numpy as np"
   ]
  },
  {
   "cell_type": "code",
   "execution_count": 5,
   "id": "2e4752a8-0eca-4596-b81b-bcae7b717e5b",
   "metadata": {
    "tags": []
   },
   "outputs": [
    {
     "name": "stdout",
     "output_type": "stream",
     "text": [
      "8\n"
     ]
    }
   ],
   "source": [
    "def find_consecutive(my_list):\n",
    "    ### Sort list\n",
    "    sorted_my_list = sorted(my_list)\n",
    "    \n",
    "    ### Start number of the consecutive range\n",
    "    start = sorted_my_list[0]\n",
    "    \n",
    "    ### End number of the consecutive range\n",
    "    end = start + 1\n",
    "    \n",
    "    for i in range(start, end):\n",
    "        print(i)\n",
    "    \n",
    "        \n",
    "\n",
    "my_list = [1, 2, 3, 4, 5, 7, 8, 10]\n",
    "print(len(my_list))"
   ]
  },
  {
   "cell_type": "code",
   "execution_count": 6,
   "id": "a900ac77-de08-44b9-a538-35f5a4033eef",
   "metadata": {
    "tags": []
   },
   "outputs": [
    {
     "name": "stdout",
     "output_type": "stream",
     "text": [
      "1\n"
     ]
    }
   ],
   "source": [
    "find_consecutive(my_list)"
   ]
  },
  {
   "cell_type": "code",
   "execution_count": 92,
   "id": "7926d9b4-fee3-4a82-b729-3aba76a2f68e",
   "metadata": {
    "tags": []
   },
   "outputs": [
    {
     "data": {
      "text/plain": [
       "[(2, 2), (5, 7)]"
      ]
     },
     "execution_count": 92,
     "metadata": {},
     "output_type": "execute_result"
    }
   ],
   "source": [
    "def ranges(nums):\n",
    "    nums = sorted(set(nums))\n",
    "    \n",
    "    ### Find the non-consecutive gaps\n",
    "    gaps = [[s, e] for s, e in zip(nums, nums[1:]) if s+1 < e]\n",
    "    edges = iter(nums[:1] + sum(gaps, []) + nums[-1:])\n",
    "    \n",
    "    return list(zip(edges, edges))\n",
    "\n",
    "ranges([2, 5, 6, 7])"
   ]
  },
  {
   "cell_type": "code",
   "execution_count": 111,
   "id": "4229bcfa-f0a4-4499-82fe-b2c5ccf66bbb",
   "metadata": {
    "tags": []
   },
   "outputs": [
    {
     "name": "stdout",
     "output_type": "stream",
     "text": [
      "10\n"
     ]
    }
   ],
   "source": [
    "def func_1():\n",
    "    func_1.test_1 = 10\n",
    "    print(test_1)\n",
    "    \n",
    "def func_2():\n",
    "    print(func_1.test_1)\n",
    "\n",
    "func_1()"
   ]
  },
  {
   "cell_type": "code",
   "execution_count": 112,
   "id": "a6f18074-f8bd-4ec1-a984-2aa98e415fd2",
   "metadata": {
    "tags": []
   },
   "outputs": [],
   "source": [
    "import re"
   ]
  },
  {
   "cell_type": "code",
   "execution_count": 119,
   "id": "440c7ad0-29e6-4967-8dd1-1b2c95b7ff30",
   "metadata": {
    "tags": []
   },
   "outputs": [
    {
     "data": {
      "text/plain": [
       "True"
      ]
     },
     "execution_count": 119,
     "metadata": {},
     "output_type": "execute_result"
    }
   ],
   "source": [
    "date_str = \"2024-04-01\"\n",
    "invalid_str = \"abc\"\n",
    "\n",
    "re.search(r\"\\d{4}-\\d{2}-\\d{2}\", invalid_str) != None"
   ]
  }
 ],
 "metadata": {
  "kernelspec": {
   "display_name": "Python 3 (ipykernel)",
   "language": "python",
   "name": "python3"
  },
  "language_info": {
   "codemirror_mode": {
    "name": "ipython",
    "version": 3
   },
   "file_extension": ".py",
   "mimetype": "text/x-python",
   "name": "python",
   "nbconvert_exporter": "python",
   "pygments_lexer": "ipython3",
   "version": "3.11.5"
  }
 },
 "nbformat": 4,
 "nbformat_minor": 5
}
