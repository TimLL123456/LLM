{
 "cells": [
  {
   "cell_type": "markdown",
   "metadata": {},
   "source": [
    "## Access Ollama Server by Openai() function"
   ]
  },
  {
   "cell_type": "markdown",
   "metadata": {},
   "source": [
    "#### Reference\n",
    "- Structured Outputs with Ollama: https://github.com/jxnl/instructor/blob/main/docs/examples/ollama.md\n",
    "- Controlling Large Language Model Output with Pydantic: https://medium.com/@mattchinnock/controlling-large-language-model-output-with-pydantic-74b2af5e79d1"
   ]
  },
  {
   "cell_type": "code",
   "execution_count": 3,
   "metadata": {},
   "outputs": [],
   "source": [
    "#!pip install pydantic instructor openai yfinance"
   ]
  },
  {
   "cell_type": "code",
   "execution_count": 37,
   "metadata": {},
   "outputs": [],
   "source": [
    "from openai import OpenAI\n",
    "from pydantic import BaseModel, Field\n",
    "import yfinance as yf\n",
    "import instructor"
   ]
  },
  {
   "cell_type": "code",
   "execution_count": 11,
   "metadata": {},
   "outputs": [],
   "source": [
    "company = \"Google\"\n",
    "\n",
    "class StockInfo(BaseModel):\n",
    "    company: str = Field(..., description=\"Name of the company\")\n",
    "    ticker: str = Field(..., description=\"Ticker symbol of the company\")"
   ]
  },
  {
   "cell_type": "code",
   "execution_count": 12,
   "metadata": {},
   "outputs": [],
   "source": [
    "# enables `response_model` in create call\n",
    "client = instructor.from_openai(\n",
    "    OpenAI(\n",
    "        base_url=\"http://localhost:11434/v1\",\n",
    "        api_key=\"ollama\",  # required, but unused\n",
    "    ),\n",
    "    mode=instructor.Mode.JSON,\n",
    ")\n",
    "\n",
    "resp = client.chat.completions.create(\n",
    "    model=\"llama3\",\n",
    "    messages=[\n",
    "        {\n",
    "            \"role\": \"user\",\n",
    "            \"content\": f\"Return the company name and the ticker symbol of the {company}.\"\n",
    "        }\n",
    "    ],\n",
    "    response_model=StockInfo,\n",
    "    max_retries=5\n",
    ")"
   ]
  },
  {
   "cell_type": "code",
   "execution_count": 13,
   "metadata": {},
   "outputs": [
    {
     "name": "stdout",
     "output_type": "stream",
     "text": [
      "The stock price of the Alphabet Inc. is 175.360107421875. USD\n"
     ]
    }
   ],
   "source": [
    "stock = yf.Ticker(resp.ticker)\n",
    "hist = stock.history(period=\"1d\")\n",
    "stock_price = hist['Close'].iloc[-1]\n",
    "print(f\"The stock price of the {resp.company} is {stock_price}. USD\")"
   ]
  },
  {
   "cell_type": "markdown",
   "metadata": {},
   "source": [
    "---"
   ]
  },
  {
   "cell_type": "code",
   "execution_count": 57,
   "metadata": {},
   "outputs": [],
   "source": [
    "from datetime import datetime"
   ]
  },
  {
   "cell_type": "code",
   "execution_count": 58,
   "metadata": {},
   "outputs": [
    {
     "data": {
      "text/plain": [
       "'2024-05-25, Saturday'"
      ]
     },
     "execution_count": 58,
     "metadata": {},
     "output_type": "execute_result"
    }
   ],
   "source": [
    "today = datetime.now().strftime(\"%Y-%m-%d, %A\")\n",
    "today"
   ]
  },
  {
   "cell_type": "code",
   "execution_count": 52,
   "metadata": {},
   "outputs": [],
   "source": [
    "class test(BaseModel):\n",
    "    date: str = Field(..., description=\"Date of booking\", examples=[\"2-2-2024\", \"None\", \"check\"])\n",
    "    period: str = Field(..., description=\"Period of booking\", examples=[\"13:00 - 14:00\", \"None\", \"check\"])"
   ]
  },
  {
   "cell_type": "code",
   "execution_count": 56,
   "metadata": {},
   "outputs": [
    {
     "name": "stdout",
     "output_type": "stream",
     "text": [
      "\n",
      "Instruction:\n",
      "- Return the date and period based on the user input.\n",
      "- You must follow below examples as reference to answer question.\n",
      "- If user do not provide a clear date and period, return \"None\" in date and period.\n",
      "- If user ask for available period, return \"check\" in date and period.\n",
      "- User are only to book 1 hour. If user ask for booking more than 1 hour, return \"None\"\n",
      "----------------------------------------------------------------\n",
      "### Example of without date and period\n",
      "Qurestion: Any Booking available at 2/2/2024\n",
      "return: {'date' = '2-2-2024', 'period'= 'None'}\n",
      "\n",
      "### Example of irrelevant query\n",
      "Qurestion: Good morning / Hi\n",
      "return: {'date' = 'None', 'period' = 'None'}\n",
      "\n",
      "### Example of time period conversion\n",
      "Qurestion: I want to book at 1/6/2022 from 05:00 pm - 06:00 pm\n",
      "return: {'date' = '1/6/2022', 'period' = '17:00 - 18:00'}\n",
      "----------------------------------------------------------------\n",
      "Query:\n",
      "I want to book 1 day\n",
      "Hi nice to meet you\n"
     ]
    },
    {
     "data": {
      "text/plain": [
       "test(date='None', period='None')"
      ]
     },
     "execution_count": 56,
     "metadata": {},
     "output_type": "execute_result"
    }
   ],
   "source": [
    "client = instructor.from_openai(\n",
    "    OpenAI(\n",
    "        base_url=\"http://localhost:11434/v1\",\n",
    "        api_key=\"Ollama\"\n",
    "    ),\n",
    "    mode=instructor.Mode.JSON,\n",
    ")\n",
    "\n",
    "prompt = \"\"\"\n",
    "Instruction:\n",
    "- Return the date and period based on the user input.\n",
    "- You must follow below examples as reference to answer question.\n",
    "- If user do not provide a clear date and period, return \"None\" in date and period.\n",
    "- If user ask for available period or what period can book, return \"check\" in date and period.\n",
    "- User are only to book 1 hour. If user ask for booking more than 1 hour, return \"None\"\n",
    "----------------------------------------------------------------\n",
    "### Example of without date and period\n",
    "Qurestion: Any Booking available at 2/2/2024\n",
    "return: {'date' = '2-2-2024', 'period'= 'None'}\n",
    "\n",
    "### Example of irrelevant query\n",
    "Qurestion: Good morning / Hi\n",
    "return: {'date' = 'None', 'period' = 'None'}\n",
    "\n",
    "### Example of time period conversion\n",
    "Qurestion: I want to book at 1/6/2022 from 05:00 pm - 06:00 pm\n",
    "return: {'date' = '1/6/2022', 'period' = '17:00 - 18:00'}\n",
    "----------------------------------------------------------------\n",
    "Query:\n",
    "I want to book 1 day\n",
    "\"\"\"\n",
    "\n",
    "response = client.chat.completions.create(\n",
    "    model=\"llama3\",\n",
    "    messages=[\n",
    "        {\n",
    "            \"role\": \"user\",\n",
    "            \"content\": prompt\n",
    "        }\n",
    "    ],\n",
    "    response_model=test,\n",
    "    max_retries=5,\n",
    ")\n",
    "\n",
    "response"
   ]
  },
  {
   "cell_type": "markdown",
   "metadata": {},
   "source": [
    "---"
   ]
  },
  {
   "cell_type": "code",
   "execution_count": 4,
   "metadata": {},
   "outputs": [],
   "source": [
    "from langchain_community.chat_models import ChatOllama\n",
    "from langchain_core.prompts import ChatPromptTemplate\n",
    "from langchain_core.messages import HumanMessage"
   ]
  },
  {
   "cell_type": "code",
   "execution_count": 7,
   "metadata": {},
   "outputs": [],
   "source": [
    "llm = ChatOllama(model=\"llama3\",\n",
    "                 keep_alive=-1,\n",
    "                 temperature=0,\n",
    "                 max_new_tokens=512)"
   ]
  },
  {
   "cell_type": "code",
   "execution_count": 59,
   "metadata": {},
   "outputs": [
    {
     "name": "stdout",
     "output_type": "stream",
     "text": [
      "Since today is Saturday (25th), next Wednesday would be:\n",
      "\n",
      "28th May 2024\n"
     ]
    }
   ],
   "source": [
    "content = \"\"\"\n",
    "Today: 25/5/2024, Saturday\n",
    "\n",
    "What's the date of next Wednesday\n",
    "\"\"\"\n",
    "\n",
    "messages = [\n",
    "    HumanMessage(\n",
    "        content=content\n",
    "    )\n",
    "]\n",
    "\n",
    "chat_model_response = llm.invoke(messages)\n",
    "print(chat_model_response.content)"
   ]
  },
  {
   "cell_type": "code",
   "execution_count": 66,
   "metadata": {},
   "outputs": [
    {
     "name": "stdout",
     "output_type": "stream",
     "text": [
      "content='Since today is Wednesday (29th), the next Wednesday would be:\\n\\nWednesday, 6th June 2024' response_metadata={'model': 'llama3', 'created_at': '2024-05-24T17:44:17.871468Z', 'message': {'role': 'assistant', 'content': ''}, 'done_reason': 'stop', 'done': True, 'total_duration': 1292868400, 'load_duration': 3909900, 'prompt_eval_count': 19, 'prompt_eval_duration': 350885000, 'eval_count': 24, 'eval_duration': 934218000} id='run-2b92c0a5-7727-4247-a6fc-44f6a0368a1f-0'\n"
     ]
    }
   ],
   "source": [
    "prompt = ChatPromptTemplate.from_template(\"Today: {date}\\nThere is 31 days in May\\nWhat's the date of next Wednesday\")\n",
    "chain = prompt | llm\n",
    "print(chain.invoke({\"date\":\"29/5/2024, Wednesday\"}))"
   ]
  }
 ],
 "metadata": {
  "kernelspec": {
   "display_name": "llm_streamlit",
   "language": "python",
   "name": "python3"
  },
  "language_info": {
   "codemirror_mode": {
    "name": "ipython",
    "version": 3
   },
   "file_extension": ".py",
   "mimetype": "text/x-python",
   "name": "python",
   "nbconvert_exporter": "python",
   "pygments_lexer": "ipython3",
   "version": "3.10.14"
  }
 },
 "nbformat": 4,
 "nbformat_minor": 2
}
