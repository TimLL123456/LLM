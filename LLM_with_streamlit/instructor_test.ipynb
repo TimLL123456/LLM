{
 "cells": [
  {
   "cell_type": "code",
   "execution_count": 1,
   "metadata": {},
   "outputs": [],
   "source": [
    "import pandas as pd"
   ]
  },
  {
   "cell_type": "code",
   "execution_count": 30,
   "metadata": {},
   "outputs": [
    {
     "data": {
      "text/html": [
       "<div>\n",
       "<style scoped>\n",
       "    .dataframe tbody tr th:only-of-type {\n",
       "        vertical-align: middle;\n",
       "    }\n",
       "\n",
       "    .dataframe tbody tr th {\n",
       "        vertical-align: top;\n",
       "    }\n",
       "\n",
       "    .dataframe thead th {\n",
       "        text-align: right;\n",
       "    }\n",
       "</style>\n",
       "<table border=\"1\" class=\"dataframe\">\n",
       "  <thead>\n",
       "    <tr style=\"text-align: right;\">\n",
       "      <th></th>\n",
       "      <th>Class</th>\n",
       "      <th>Status</th>\n",
       "    </tr>\n",
       "  </thead>\n",
       "  <tbody>\n",
       "    <tr>\n",
       "      <th>0</th>\n",
       "      <td>A</td>\n",
       "      <td>Closed</td>\n",
       "    </tr>\n",
       "    <tr>\n",
       "      <th>1</th>\n",
       "      <td>A</td>\n",
       "      <td>Closed</td>\n",
       "    </tr>\n",
       "    <tr>\n",
       "      <th>2</th>\n",
       "      <td>A</td>\n",
       "      <td>Closed</td>\n",
       "    </tr>\n",
       "    <tr>\n",
       "      <th>3</th>\n",
       "      <td>A</td>\n",
       "      <td>Closed</td>\n",
       "    </tr>\n",
       "    <tr>\n",
       "      <th>4</th>\n",
       "      <td>B</td>\n",
       "      <td>Open</td>\n",
       "    </tr>\n",
       "    <tr>\n",
       "      <th>5</th>\n",
       "      <td>B</td>\n",
       "      <td>Closed</td>\n",
       "    </tr>\n",
       "    <tr>\n",
       "      <th>6</th>\n",
       "      <td>B</td>\n",
       "      <td>Open</td>\n",
       "    </tr>\n",
       "    <tr>\n",
       "      <th>7</th>\n",
       "      <td>B</td>\n",
       "      <td>Closed</td>\n",
       "    </tr>\n",
       "  </tbody>\n",
       "</table>\n",
       "</div>"
      ],
      "text/plain": [
       "  Class  Status\n",
       "0     A  Closed\n",
       "1     A  Closed\n",
       "2     A  Closed\n",
       "3     A  Closed\n",
       "4     B    Open\n",
       "5     B  Closed\n",
       "6     B    Open\n",
       "7     B  Closed"
      ]
     },
     "execution_count": 30,
     "metadata": {},
     "output_type": "execute_result"
    }
   ],
   "source": [
    "df_1 = pd.DataFrame({\"Class\": [\"A\", \"A\", \"A\", \"A\", \"B\", \"B\", \"B\", \"B\"],\n",
    "                     \"Status\": [\"Open\", \"Closed\", \"Open\", \"Closed\",\n",
    "                                \"Open\", \"Closed\", \"Open\", \"Closed\"]})\n",
    "\n",
    "df_2 = pd.DataFrame({\"Class\": [\"A\", \"A\", \"A\", \"A\"],\n",
    "                     \"Status\": [\"Closed\", \"Closed\", \"Closed\", \"Closed\"]})\n",
    "\n",
    "_indexes = df_1.index[df_1[\"Class\"] == \"A\"].values\n",
    "df_1.loc[_indexes, \"Status\"] = df_2[\"Status\"]\n",
    "df_1"
   ]
  },
  {
   "cell_type": "markdown",
   "metadata": {},
   "source": [
    "## Access Ollama Server by Openai() function"
   ]
  },
  {
   "cell_type": "markdown",
   "metadata": {},
   "source": [
    "#### Reference\n",
    "- Structured Outputs with Ollama: https://github.com/jxnl/instructor/blob/main/docs/examples/ollama.md"
   ]
  },
  {
   "cell_type": "code",
   "execution_count": null,
   "metadata": {},
   "outputs": [],
   "source": [
    "# !uv pip install pydantic instructor openai yfinance"
   ]
  },
  {
   "cell_type": "code",
   "execution_count": 37,
   "metadata": {},
   "outputs": [],
   "source": [
    "from openai import OpenAI\n",
    "from pydantic import BaseModel, Field\n",
    "from typing import List\n",
    "import yfinance as yf\n",
    "import instructor"
   ]
  },
  {
   "cell_type": "code",
   "execution_count": 15,
   "metadata": {},
   "outputs": [],
   "source": [
    "company = \"Google\"\n",
    "\n",
    "class StockInfo(BaseModel):\n",
    "    company: str = Field(..., description=\"Name of the company\")\n",
    "    ticker: str = Field(..., description=\"Ticker symbol of the company\")"
   ]
  },
  {
   "cell_type": "code",
   "execution_count": 19,
   "metadata": {},
   "outputs": [],
   "source": [
    "# enables `response_model` in create call\n",
    "client = instructor.from_openai(\n",
    "    OpenAI(\n",
    "        base_url=\"http://localhost:11434/v1\",\n",
    "        api_key=\"ollama\",  # required, but unused\n",
    "    ),\n",
    "    mode=instructor.Mode.JSON,\n",
    ")\n",
    "\n",
    "resp = client.chat.completions.create(\n",
    "    model=\"llama3\",\n",
    "    messages=[\n",
    "        {\n",
    "            \"role\": \"user\",\n",
    "            \"content\": f\"Return the company name and the ticker symbol of the {company}.\"\n",
    "        }\n",
    "    ],\n",
    "    response_model=StockInfo,\n",
    "    max_retries=5\n",
    ")"
   ]
  },
  {
   "cell_type": "code",
   "execution_count": 39,
   "metadata": {},
   "outputs": [
    {
     "name": "stdout",
     "output_type": "stream",
     "text": [
      "The stock price of the Google LLC is 177.85000610351562. USD\n"
     ]
    }
   ],
   "source": [
    "stock = yf.Ticker(resp.ticker)\n",
    "hist = stock.history(period=\"1d\")\n",
    "stock_price = hist['Close'].iloc[-1]\n",
    "print(f\"The stock price of the {resp.company} is {stock_price}. USD\")"
   ]
  }
 ],
 "metadata": {
  "kernelspec": {
   "display_name": "llm_streamlit",
   "language": "python",
   "name": "python3"
  },
  "language_info": {
   "codemirror_mode": {
    "name": "ipython",
    "version": 3
   },
   "file_extension": ".py",
   "mimetype": "text/x-python",
   "name": "python",
   "nbconvert_exporter": "python",
   "pygments_lexer": "ipython3",
   "version": "3.10.14"
  }
 },
 "nbformat": 4,
 "nbformat_minor": 2
}
