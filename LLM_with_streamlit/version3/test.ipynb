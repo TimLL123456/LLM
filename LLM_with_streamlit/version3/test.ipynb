{
 "cells": [
  {
   "cell_type": "code",
   "execution_count": 1,
   "metadata": {},
   "outputs": [],
   "source": [
    "import pandas as pd"
   ]
  },
  {
   "cell_type": "code",
   "execution_count": 3,
   "metadata": {},
   "outputs": [],
   "source": [
    "data = [{'id': '150e66a6-d434-401c-9cfd-0c1323882e7b', 'username': 'tester', 'email': 'tester@', 'password': 'tester', 'user_id': 1},\n",
    "        {'id': 'f9bff3e8-2294-47e0-9b79-d96ab92fc6fa', 'username': 'tester1', 'email': 'tester1@', 'password': 'tester1', 'user_id': 2},\n",
    "        {'id': 'f1723a84-d28a-4603-a9fa-ddd78a34cde6', 'username': 'tester2', 'email': 'tester2@', 'password': 'tester2', 'user_id': 3}]"
   ]
  },
  {
   "cell_type": "code",
   "execution_count": 4,
   "metadata": {},
   "outputs": [
    {
     "data": {
      "text/html": [
       "<div>\n",
       "<style scoped>\n",
       "    .dataframe tbody tr th:only-of-type {\n",
       "        vertical-align: middle;\n",
       "    }\n",
       "\n",
       "    .dataframe tbody tr th {\n",
       "        vertical-align: top;\n",
       "    }\n",
       "\n",
       "    .dataframe thead th {\n",
       "        text-align: right;\n",
       "    }\n",
       "</style>\n",
       "<table border=\"1\" class=\"dataframe\">\n",
       "  <thead>\n",
       "    <tr style=\"text-align: right;\">\n",
       "      <th></th>\n",
       "      <th>id</th>\n",
       "      <th>username</th>\n",
       "      <th>email</th>\n",
       "      <th>password</th>\n",
       "      <th>user_id</th>\n",
       "    </tr>\n",
       "  </thead>\n",
       "  <tbody>\n",
       "    <tr>\n",
       "      <th>0</th>\n",
       "      <td>150e66a6-d434-401c-9cfd-0c1323882e7b</td>\n",
       "      <td>tester</td>\n",
       "      <td>tester@123</td>\n",
       "      <td>tester</td>\n",
       "      <td>1</td>\n",
       "    </tr>\n",
       "    <tr>\n",
       "      <th>1</th>\n",
       "      <td>f9bff3e8-2294-47e0-9b79-d96ab92fc6fa</td>\n",
       "      <td>tester1</td>\n",
       "      <td>tester1@</td>\n",
       "      <td>tester1</td>\n",
       "      <td>2</td>\n",
       "    </tr>\n",
       "    <tr>\n",
       "      <th>2</th>\n",
       "      <td>f1723a84-d28a-4603-a9fa-ddd78a34cde6</td>\n",
       "      <td>tester2</td>\n",
       "      <td>tester2@</td>\n",
       "      <td>tester2</td>\n",
       "      <td>3</td>\n",
       "    </tr>\n",
       "  </tbody>\n",
       "</table>\n",
       "</div>"
      ],
      "text/plain": [
       "                                     id username       email password  user_id\n",
       "0  150e66a6-d434-401c-9cfd-0c1323882e7b   tester  tester@123   tester        1\n",
       "1  f9bff3e8-2294-47e0-9b79-d96ab92fc6fa  tester1    tester1@  tester1        2\n",
       "2  f1723a84-d28a-4603-a9fa-ddd78a34cde6  tester2    tester2@  tester2        3"
      ]
     },
     "execution_count": 4,
     "metadata": {},
     "output_type": "execute_result"
    }
   ],
   "source": [
    "df = pd.DataFrame(data)\n",
    "df"
   ]
  }
 ],
 "metadata": {
  "kernelspec": {
   "display_name": "llm_streamlit",
   "language": "python",
   "name": "python3"
  },
  "language_info": {
   "codemirror_mode": {
    "name": "ipython",
    "version": 3
   },
   "file_extension": ".py",
   "mimetype": "text/x-python",
   "name": "python",
   "nbconvert_exporter": "python",
   "pygments_lexer": "ipython3",
   "version": "3.10.14"
  }
 },
 "nbformat": 4,
 "nbformat_minor": 2
}
