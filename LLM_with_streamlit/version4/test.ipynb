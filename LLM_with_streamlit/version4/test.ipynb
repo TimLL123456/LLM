{
 "cells": [
  {
   "cell_type": "code",
   "execution_count": 4,
   "metadata": {},
   "outputs": [],
   "source": [
    "import pandas as pd"
   ]
  },
  {
   "cell_type": "code",
   "execution_count": 5,
   "metadata": {},
   "outputs": [],
   "source": [
    "book_record = [{\n",
    "                    \"booking_id\": 20,\n",
    "                    \"user_id\": 1,\n",
    "                    \"room_id\": 1,\n",
    "                    \"booking_date\": \"2024-08-04\",\n",
    "                    \"booking_starttime\": \"08:00\",\n",
    "                    \"booking_endtime\": \"10:00\",\n",
    "                    \"totalcost\": 180,\n",
    "                    \"status_id\": 1\n",
    "                },\n",
    "                {\n",
    "                    \"booking_id\": 21,\n",
    "                    \"user_id\": 2,\n",
    "                    \"room_id\": 2,\n",
    "                    \"booking_date\": \"2024-08-04\",\n",
    "                    \"booking_starttime\": \"11:00\",\n",
    "                    \"booking_endtime\": \"13:00\",\n",
    "                    \"totalcost\": 160,\n",
    "                    \"status_id\": 1\n",
    "                }]"
   ]
  },
  {
   "cell_type": "code",
   "execution_count": 6,
   "metadata": {},
   "outputs": [],
   "source": [
    "df = pd.DataFrame(book_record)"
   ]
  },
  {
   "cell_type": "code",
   "execution_count": 7,
   "metadata": {},
   "outputs": [
    {
     "data": {
      "text/html": [
       "<div>\n",
       "<style scoped>\n",
       "    .dataframe tbody tr th:only-of-type {\n",
       "        vertical-align: middle;\n",
       "    }\n",
       "\n",
       "    .dataframe tbody tr th {\n",
       "        vertical-align: top;\n",
       "    }\n",
       "\n",
       "    .dataframe thead th {\n",
       "        text-align: right;\n",
       "    }\n",
       "</style>\n",
       "<table border=\"1\" class=\"dataframe\">\n",
       "  <thead>\n",
       "    <tr style=\"text-align: right;\">\n",
       "      <th></th>\n",
       "      <th>booking_id</th>\n",
       "      <th>user_id</th>\n",
       "      <th>room_id</th>\n",
       "      <th>booking_date</th>\n",
       "      <th>booking_starttime</th>\n",
       "      <th>booking_endtime</th>\n",
       "      <th>totalcost</th>\n",
       "      <th>status_id</th>\n",
       "    </tr>\n",
       "  </thead>\n",
       "  <tbody>\n",
       "    <tr>\n",
       "      <th>0</th>\n",
       "      <td>20</td>\n",
       "      <td>1</td>\n",
       "      <td>1</td>\n",
       "      <td>2024-08-04</td>\n",
       "      <td>08:00</td>\n",
       "      <td>10:00</td>\n",
       "      <td>180</td>\n",
       "      <td>1</td>\n",
       "    </tr>\n",
       "    <tr>\n",
       "      <th>1</th>\n",
       "      <td>21</td>\n",
       "      <td>2</td>\n",
       "      <td>2</td>\n",
       "      <td>2024-08-04</td>\n",
       "      <td>11:00</td>\n",
       "      <td>13:00</td>\n",
       "      <td>160</td>\n",
       "      <td>1</td>\n",
       "    </tr>\n",
       "  </tbody>\n",
       "</table>\n",
       "</div>"
      ],
      "text/plain": [
       "   booking_id  user_id  room_id booking_date booking_starttime  \\\n",
       "0          20        1        1   2024-08-04             08:00   \n",
       "1          21        2        2   2024-08-04             11:00   \n",
       "\n",
       "  booking_endtime  totalcost  status_id  \n",
       "0           10:00        180          1  \n",
       "1           13:00        160          1  "
      ]
     },
     "execution_count": 7,
     "metadata": {},
     "output_type": "execute_result"
    }
   ],
   "source": [
    "df"
   ]
  }
 ],
 "metadata": {
  "kernelspec": {
   "display_name": "base",
   "language": "python",
   "name": "python3"
  },
  "language_info": {
   "codemirror_mode": {
    "name": "ipython",
    "version": 3
   },
   "file_extension": ".py",
   "mimetype": "text/x-python",
   "name": "python",
   "nbconvert_exporter": "python",
   "pygments_lexer": "ipython3",
   "version": "3.11.5"
  }
 },
 "nbformat": 4,
 "nbformat_minor": 2
}
