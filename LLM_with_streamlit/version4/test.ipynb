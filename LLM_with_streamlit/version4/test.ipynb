{
 "cells": [
  {
   "cell_type": "code",
   "execution_count": null,
   "metadata": {},
   "outputs": [],
   "source": [
    "first = 7\n",
    "last = 23\n",
    "\n",
    "booked = [(8, 10), (11, 13), (15, 18), (20, 22)]\n",
    "\n",
    "gaps = []\n",
    "for start, end in zip(booked, booked[1:]):\n",
    "\n",
    "    if (first != start[0]) and (booked.index(start) == 0):\n",
    "        gaps.append((first, start[0]))\n",
    "\n",
    "    if (last != end[-1]) and (booked.index(end) == len(booked)-1):\n",
    "        gaps.append((end[-1], last))\n",
    "\n",
    "    gaps.append((start[-1], end[0]))\n",
    "\n",
    "\n",
    "#print(first, gaps[0][0])\n",
    "#print(gaps[-1][-1], last)\n",
    "sorted(gaps)"
   ]
  },
  {
   "cell_type": "code",
   "execution_count": 5,
   "metadata": {},
   "outputs": [
    {
     "data": {
      "text/plain": [
       "[(7, 8), (10, 11), (13, 15), (18, 20), (22, 23)]"
      ]
     },
     "execution_count": 5,
     "metadata": {},
     "output_type": "execute_result"
    }
   ],
   "source": [
    "start = 7\n",
    "end = 23\n",
    "\n",
    "booked = [(8, 10), (11, 13), (15, 18), (20, 22)]\n",
    "\n",
    "gap = [(first[-1], second[0]) for first, second in zip(booked, booked[1:]) if first[-1] != second[0]]\n",
    "gap.insert(0, (start, booked[0][0])) if start < booked[0][0] else None\n",
    "gap.append((booked[-1][-1], end)) if end > booked[-1][-1] else None\n",
    "\n",
    "gap"
   ]
  }
 ],
 "metadata": {
  "kernelspec": {
   "display_name": "base",
   "language": "python",
   "name": "python3"
  },
  "language_info": {
   "codemirror_mode": {
    "name": "ipython",
    "version": 3
   },
   "file_extension": ".py",
   "mimetype": "text/x-python",
   "name": "python",
   "nbconvert_exporter": "python",
   "pygments_lexer": "ipython3",
   "version": "3.11.5"
  }
 },
 "nbformat": 4,
 "nbformat_minor": 2
}
